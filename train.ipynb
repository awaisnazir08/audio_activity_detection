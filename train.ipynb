{
 "cells": [
  {
   "cell_type": "markdown",
   "metadata": {},
   "source": [
    "## Importing the necessary libraries"
   ]
  },
  {
   "cell_type": "code",
   "execution_count": 1,
   "metadata": {},
   "outputs": [],
   "source": [
    "import json\n",
    "import librosa\n",
    "from sklearn.model_selection import train_test_split\n",
    "import librosa.display\n",
    "from torch.utils.data import DataLoader, Dataset\n",
    "import torch.optim as optim\n",
    "import numpy as np\n",
    "import matplotlib.pyplot as plt\n",
    "import os\n",
    "import torch\n",
    "import torch.nn as nn\n",
    "from sklearn.metrics import confusion_matrix, ConfusionMatrixDisplay, classification_report"
   ]
  },
  {
   "cell_type": "markdown",
   "metadata": {},
   "source": [
    "## Audio Dataset Class"
   ]
  },
  {
   "cell_type": "code",
   "execution_count": 2,
   "metadata": {},
   "outputs": [],
   "source": [
    "class AudioDataset(Dataset):\n",
    "    def __init__(self, data_path = None, data = None, segment_len = 1000):\n",
    "        \"\"\"\n",
    "        Initialize the dataset with preprocessed data.\n",
    "        \n",
    "        Args:\n",
    "            data_path (str): Path to the preprocessed `.npz` file containing Mel spectrograms and labels.\n",
    "            segment_len (int): Fixed length of segments (in time steps) to extract for training.\n",
    "        \"\"\"\n",
    "        # data = np.load(data_path)\n",
    "        self.mel_specs = data['mel_specs']  # Shape: (n_mels, total_time_steps)\n",
    "        self.labels = data['labels']  # Shape: (total_time_steps,)\n",
    "        \n",
    "        self.segment_len = segment_len\n",
    "\n",
    "        # Total number of segments that can be extracted from the dataset\n",
    "        self.num_segments = self.mel_specs.shape[1] // self.segment_len\n",
    "\n",
    "    def __len__(self):\n",
    "        \"\"\"\n",
    "        Returns the total number of segments in the dataset.\n",
    "        \"\"\"\n",
    "        return self.num_segments\n",
    "\n",
    "    def __getitem__(self, idx: int):\n",
    "        \"\"\"\n",
    "        Retrieve a fixed-length segment of Mel spectrogram and corresponding labels.\n",
    "\n",
    "        Args:\n",
    "            idx (int): Index of the segment to retrieve.\n",
    "\n",
    "        Returns:\n",
    "            tuple: (Mel spectrogram segment, Label segment)\n",
    "        \"\"\"\n",
    "        start = idx * self.segment_len\n",
    "        end = start + self.segment_len\n",
    "\n",
    "        mel_segment = self.mel_specs[:, start:min(end, self.mel_specs.shape[1])]\n",
    "        label_segment = self.labels[start:min(end, self.labels.shape[0])]\n",
    "\n",
    "        return torch.tensor(mel_segment, dtype=torch.float32), torch.tensor(label_segment, dtype=torch.float32)\n"
   ]
  },
  {
   "cell_type": "markdown",
   "metadata": {},
   "source": [
    "## Model Class"
   ]
  },
  {
   "cell_type": "code",
   "execution_count": null,
   "metadata": {},
   "outputs": [],
   "source": [
    "# class CNNSoundClassifier(nn.Module):\n",
    "#     def __init__(self, input_size: int, num_filters: int, kernel_size: int, output_size: int):\n",
    "#         super(CNNSoundClassifier, self).__init__()\n",
    "#         self.cnn = nn.Sequential(\n",
    "#             nn.Conv1d(input_size, num_filters, kernel_size=kernel_size, stride=1, padding=kernel_size // 2),\n",
    "#             nn.ReLU(),\n",
    "#             nn.MaxPool1d(kernel_size=2, stride=2),\n",
    "#             nn.Conv1d(num_filters, num_filters * 2, kernel_size=kernel_size, stride=1, padding=kernel_size // 2),\n",
    "#             nn.ReLU(),\n",
    "#             nn.MaxPool1d(kernel_size=2, stride=2),\n",
    "#         )\n",
    "        \n",
    "#         # self.fc = nn.Conv1d(num_filters * 2, output_size, kernel_size=1)\n",
    "#         self.linear = nn.Linear(num_filters * 2, )\n",
    "#         self.sigmoid = nn.Sigmoid()\n",
    "\n",
    "#     def forward(self, x: torch.Tensor) -> torch.Tensor:\n",
    "#         x = self.cnn(x)  # Shape: (batch_size, num_filters * 2, reduced_time_steps)\n",
    "#         # x = self.fc(x)  # Shape: (batch_size, output_size, reduced_time_steps)\n",
    "#         x = self.sigmoid(x)\n",
    "#         return x.permute(0, 2, 1)  # Shape: (batch_size, time_steps, output_size)\n"
   ]
  },
  {
   "cell_type": "code",
   "execution_count": 3,
   "metadata": {},
   "outputs": [],
   "source": [
    "class CNNSoundClassifier(nn.Module):\n",
    "    def __init__(self, input_size, num_filters, segment_len=1000):\n",
    "        super(CNNSoundClassifier, self).__init__()\n",
    "        self.segment_len = segment_len\n",
    "\n",
    "        self.cnn = nn.Sequential(\n",
    "            nn.Conv1d(input_size, num_filters, kernel_size=3, stride=1, padding=1),\n",
    "            nn.ReLU(),\n",
    "            nn.MaxPool1d(kernel_size=2, stride=2),  \n",
    "            nn.Dropout(p = 0.2),\n",
    "            \n",
    "            nn.Conv1d(num_filters, num_filters * 2, kernel_size=3, stride=1, padding=1),\n",
    "            nn.ReLU(),\n",
    "            nn.MaxPool1d(kernel_size=2, stride=2),\n",
    "            nn.Dropout(p = 0.2)\n",
    "        )\n",
    "\n",
    "        reduced_dim = self.segment_len // (2 * 2) \n",
    "\n",
    "        self.fc = nn.Linear(reduced_dim * num_filters * 2, segment_len)\n",
    "\n",
    "        self.sigmoid = nn.Sigmoid()\n",
    "\n",
    "    def forward(self, x):\n",
    "        x = self.cnn(x)  # Shape: (batch_size, num_filters * 2, reduced_dim)\n",
    "        x = x.view(x.size(0), -1)  # Flatten for the linear layer\n",
    "        x = self.fc(x)  # Shape: (batch_size, segment_len)\n",
    "        return self.sigmoid(x)\n"
   ]
  },
  {
   "cell_type": "code",
   "execution_count": null,
   "metadata": {},
   "outputs": [],
   "source": [
    "# class LSTMSoundClassifier(nn.Module):\n",
    "#     def __init__(self, input_size: int, hidden_size: int, num_layers: int, output_size: int):\n",
    "#         super(LSTMSoundClassifier, self).__init__()\n",
    "#         self.lstm = nn.LSTM(input_size, hidden_size, num_layers, batch_first=True, dropout=0.2)\n",
    "#         self.fc = nn.Linear(hidden_size, output_size)\n",
    "#         self.sigmoid = nn.Sigmoid()\n",
    "\n",
    "#     def forward(self, x: torch.Tensor) -> torch.Tensor:\n",
    "#         x = x.permute(0, 2, 1)\n",
    "#         out, _ = self.lstm(x)\n",
    "#         out = self.fc(out)\n",
    "#         return self.sigmoid(out)"
   ]
  },
  {
   "cell_type": "markdown",
   "metadata": {},
   "source": [
    "### Extracting the timestamps"
   ]
  },
  {
   "cell_type": "code",
   "execution_count": 4,
   "metadata": {},
   "outputs": [],
   "source": [
    "def extract_timestamps(predictions, hop_length, sr, merge_threshold=2, duration_threshold=1):\n",
    "    \"\"\"\n",
    "    Extract timestamps from a binary prediction array, merging adjacent detections \n",
    "    and filtering out short detections based on duration.\n",
    "\n",
    "    Args:\n",
    "        predictions (list): Binary array of predictions (1 or 0), where 1 indicates the presence of an event.\n",
    "        hop_length (int): The hop length in samples (used to calculate time from frame indices).\n",
    "        sr (int): The sample rate (samples per second), used to convert indices to time.\n",
    "        merge_threshold (float, optional): The minimum time gap (in seconds) between adjacent detections to consider them separate. Default is 2 seconds.\n",
    "        duration_threshold (float, optional): The minimum duration (in seconds) of an event to keep. Default is 1 second.\n",
    "\n",
    "    Returns:\n",
    "        list: A list of tuples representing the start and end times of detected events (in seconds).\n",
    "    \"\"\"\n",
    "    timestamps = []\n",
    "    start = None\n",
    "\n",
    "    for i, pred in enumerate(predictions):\n",
    "        if pred > 0.5 and start is None:\n",
    "            start = i\n",
    "        elif pred <= 0.5 and start is not None:\n",
    "            end = i\n",
    "            # Convert frame indices to time and store the detected timestamp\n",
    "            timestamps.append((start * hop_length / sr, end * hop_length / sr))\n",
    "            start = None\n",
    "\n",
    "    # Handle the case where an event ends at the last frame\n",
    "    if start is not None:\n",
    "        timestamps.append((start * hop_length / sr, len(predictions) * hop_length / sr))\n",
    "    \n",
    "    merged_timestamps = []\n",
    "    for ts in timestamps:\n",
    "        if not merged_timestamps or ts[0] - merged_timestamps[-1][1] > merge_threshold:\n",
    "            # No overlap, append as new event\n",
    "            merged_timestamps.append(ts)\n",
    "        else:\n",
    "            # Merge adjacent events into one\n",
    "            merged_timestamps[-1] = (merged_timestamps[-1][0], ts[1])\n",
    "    \n",
    "    # Filter out events that are too short based on the duration_threshold\n",
    "    merged_timestamps = [ts for ts in merged_timestamps if ts[1] - ts[0] >= duration_threshold]\n",
    "    \n",
    "    return merged_timestamps\n"
   ]
  },
  {
   "cell_type": "code",
   "execution_count": null,
   "metadata": {},
   "outputs": [],
   "source": [
    "def preprocess_all_audios(audio_files, annotations, sr=22050, n_mels=128, hop_length=2048, root_path='Audios', save_path='preprocessed_data.npz'):\n",
    "    all_mel_specs = None  # Initialize as None for the first file\n",
    "    all_labels = None\n",
    "\n",
    "    for audio_file in audio_files:\n",
    "        audio_path = os.path.join(root_path, audio_file)\n",
    "        y, _ = librosa.load(audio_path, sr=sr)\n",
    "\n",
    "        # Generate Mel spectrogram\n",
    "        mel_spec = librosa.feature.melspectrogram(y=y, sr=sr, n_mels=n_mels, hop_length=hop_length)\n",
    "        mel_spec = librosa.power_to_db(mel_spec, ref=np.max)\n",
    "        mel_spec = (mel_spec - mel_spec.mean()) / mel_spec.std()\n",
    "\n",
    "        # Generate labels\n",
    "        labels = np.zeros(mel_spec.shape[1])  # Initialize labels for the time steps\n",
    "        timestamps = annotations[audio_file]['crowd_noise']\n",
    "        for start, end in timestamps:\n",
    "            start_idx = int(start * sr / hop_length)\n",
    "            end_idx = int(end * sr / hop_length)\n",
    "            labels[start_idx:end_idx + 1] = 1\n",
    "\n",
    "        # Concatenate Mel spectrograms\n",
    "        if all_mel_specs is None:\n",
    "            all_mel_specs = mel_spec\n",
    "        else:\n",
    "            all_mel_specs = np.concatenate((all_mel_specs, mel_spec), axis=1)\n",
    "\n",
    "        # Concatenate labels\n",
    "        if all_labels is None:\n",
    "            all_labels = labels\n",
    "        else:\n",
    "            all_labels = np.concatenate((all_labels, labels))\n",
    "\n",
    "    # Save the final arrays\n",
    "    # np.savez_compressed(save_path, mel_specs=all_mel_specs, labels=all_labels)\n",
    "    print(f\"Saved preprocessed data: Mel spectrogram shape {all_mel_specs.shape}, Labels length {all_labels.shape}\")\n",
    "    return {'mel_specs': all_mel_specs, 'labels': all_labels}"
   ]
  },
  {
   "cell_type": "markdown",
   "metadata": {},
   "source": [
    "### Function for model training"
   ]
  },
  {
   "cell_type": "code",
   "execution_count": 5,
   "metadata": {},
   "outputs": [],
   "source": [
    "def train_model(model, train_loader, val_loader, criterion, optimizer, epochs=10):\n",
    "    \"\"\"\n",
    "    Train and validate the model for the specified number of epochs.\n",
    "\n",
    "    Args:\n",
    "        model (nn.Module): The neural network model to train.\n",
    "        train_loader (DataLoader): DataLoader for the training dataset.\n",
    "        val_loader (DataLoader): DataLoader for the validation dataset.\n",
    "        criterion (nn.Module): The loss function used for training.\n",
    "        optimizer (torch.optim.Optimizer): Optimizer for updating model weights.\n",
    "        epochs (int, optional): Number of training epochs. Defaults to 10.\n",
    "\n",
    "    Returns:\n",
    "        None\n",
    "    \"\"\"\n",
    "    model.train()\n",
    "\n",
    "    for epoch in range(epochs):\n",
    "        total_train_loss = 0\n",
    "        train_correct_predictions = 0\n",
    "        train_total_samples = 0\n",
    "\n",
    "        for mel_spec, labels in train_loader:\n",
    "            optimizer.zero_grad()\n",
    "\n",
    "            outputs = model(mel_spec)\n",
    "            loss = criterion(outputs.squeeze(), labels.squeeze())\n",
    "            loss.backward()\n",
    "            optimizer.step() \n",
    "\n",
    "            total_train_loss += loss.item()\n",
    "\n",
    "            predictions = (outputs.squeeze() > 0.5).float()\n",
    "            train_correct_predictions += (predictions == labels).sum().item()\n",
    "            train_total_samples += labels.numel()\n",
    "\n",
    "        # Calculate average training loss and accuracy for this epoch\n",
    "        avg_train_loss = total_train_loss / len(train_loader)\n",
    "        train_accuracy = train_correct_predictions / train_total_samples\n",
    "\n",
    "        model.eval()\n",
    "\n",
    "        total_val_loss = 0\n",
    "        val_correct_predictions = 0\n",
    "        val_total_samples = 0\n",
    "\n",
    "        with torch.no_grad():\n",
    "            for mel_spec, labels in val_loader:\n",
    "                outputs = model(mel_spec)\n",
    "\n",
    "                loss = criterion(outputs.squeeze(), labels.squeeze())\n",
    "                total_val_loss += loss.item()\n",
    "\n",
    "                predictions = (outputs.squeeze() > 0.5).float()\n",
    "                val_correct_predictions += (predictions == labels).sum().item()\n",
    "                val_total_samples += labels.numel()\n",
    "\n",
    "        avg_val_loss = total_val_loss / len(val_loader)\n",
    "        val_accuracy = val_correct_predictions / val_total_samples\n",
    "\n",
    "        print(f\"Epoch {epoch+1}/{epochs} -> \"\n",
    "            f\"Train Loss: {avg_train_loss:.4f}, Train Accuracy: {train_accuracy:.4%}, \"\n",
    "            f\"Val Loss: {avg_val_loss:.4f}, Val Accuracy: {val_accuracy:.4%}\")"
   ]
  },
  {
   "cell_type": "markdown",
   "metadata": {},
   "source": [
    "### Loading the dataset and running training code"
   ]
  },
  {
   "cell_type": "code",
   "execution_count": 42,
   "metadata": {},
   "outputs": [],
   "source": [
    "# Hop Length: Number of samples between consecutive frames in the spectrogram\n",
    "HOP_LENGTH = 64\n",
    "# Number of Mel frequency bands for Mel spectrogram\n",
    "N_MELS = 64\n",
    "# Sample rate of the audio (samples per second)\n",
    "SAMPLE_RATE = 22050\n",
    "# Hidden size of the LSTM layer (number of LSTM units)\n",
    "# HIDDEN_SIZE = 64\n",
    "# Maximum length of the input sequence (number of frames)\n",
    "SEGMENT_LEN = 1000\n",
    "# Training number of epochs\n",
    "EPOCHS = 10\n",
    "# Audios root directory path\n",
    "DATASET_ROOT_DIRECTORY = 'Audios'\n",
    "\n",
    "LEARNING_RATE = 2e-4"
   ]
  },
  {
   "cell_type": "code",
   "execution_count": 43,
   "metadata": {},
   "outputs": [
    {
     "name": "stdout",
     "output_type": "stream",
     "text": [
      "Saved preprocessed data: Mel spectrogram shape (64, 256470), Labels length (256470,)\n",
      "Saved preprocessed data: Mel spectrogram shape (64, 72990), Labels length (72990,)\n"
     ]
    }
   ],
   "source": [
    "# Load annotations from JSON file\n",
    "with open(\"timestamp_annotations.json\", \"r\") as f:\n",
    "    annotations = json.load(f)\n",
    "\n",
    "# Extract the audio files from the annotations\n",
    "audio_files = list(annotations.keys())\n",
    "\n",
    "# Split the dataset into training and validation sets (80% training, 20% validation)\n",
    "train_files, val_files = train_test_split(audio_files, test_size=0.2, random_state=42)\n",
    "\n",
    "train_data = preprocess_all_audios(train_files, annotations, sr=SAMPLE_RATE, n_mels=N_MELS, hop_length=HOP_LENGTH, root_path=DATASET_ROOT_DIRECTORY)\n",
    "\n",
    "val_data = preprocess_all_audios(val_files, annotations, sr=SAMPLE_RATE, n_mels=N_MELS, hop_length=HOP_LENGTH, root_path=DATASET_ROOT_DIRECTORY)\n",
    "\n",
    "# Initialize the datasets\n",
    "train_dataset = AudioDataset(\n",
    "    data = train_data,\n",
    "    segment_len=SEGMENT_LEN\n",
    ")\n",
    "\n",
    "val_dataset = AudioDataset(\n",
    "    data = val_data,\n",
    "    segment_len=SEGMENT_LEN\n",
    ")\n",
    "\n",
    "# Create DataLoader instances for both training and validation datasets\n",
    "train_loader = DataLoader(train_dataset, batch_size=4, shuffle=True)\n",
    "val_loader = DataLoader(val_dataset, batch_size=4, shuffle=False)\n"
   ]
  },
  {
   "cell_type": "code",
   "execution_count": 44,
   "metadata": {},
   "outputs": [],
   "source": [
    "# Initialize the model, loss function, and optimizer\n",
    "# model = LSTMSoundClassifier(input_size=N_MELS, hidden_size=HIDDEN_SIZE, num_layers=1, output_size=1)\n",
    "model = CNNSoundClassifier(input_size=N_MELS, num_filters=32, segment_len=SEGMENT_LEN)\n",
    "criterion = nn.BCELoss()  # Binary Cross Entropy Loss\n",
    "optimizer = optim.Adam(model.parameters(), lr=LEARNING_RATE, weight_decay=1e-3)"
   ]
  },
  {
   "cell_type": "code",
   "execution_count": 45,
   "metadata": {},
   "outputs": [
    {
     "name": "stdout",
     "output_type": "stream",
     "text": [
      "Epoch 1/10 -> Train Loss: 0.5324, Train Accuracy: 77.5227%, Val Loss: 0.5520, Val Accuracy: 75.2347%\n",
      "Epoch 2/10 -> Train Loss: 0.5022, Train Accuracy: 78.2020%, Val Loss: 0.5480, Val Accuracy: 75.2347%\n",
      "Epoch 3/10 -> Train Loss: 0.4879, Train Accuracy: 78.7160%, Val Loss: 0.5350, Val Accuracy: 75.6083%\n",
      "Epoch 4/10 -> Train Loss: 0.4693, Train Accuracy: 79.4699%, Val Loss: 0.5296, Val Accuracy: 75.5958%\n",
      "Epoch 5/10 -> Train Loss: 0.4502, Train Accuracy: 80.7793%, Val Loss: 0.5410, Val Accuracy: 75.9403%\n",
      "Epoch 6/10 -> Train Loss: 0.4367, Train Accuracy: 80.7875%, Val Loss: 0.5133, Val Accuracy: 75.3194%\n",
      "Epoch 7/10 -> Train Loss: 0.4294, Train Accuracy: 81.5020%, Val Loss: 0.5068, Val Accuracy: 76.0875%\n",
      "Epoch 8/10 -> Train Loss: 0.4005, Train Accuracy: 82.7090%, Val Loss: 0.5354, Val Accuracy: 76.3819%\n",
      "Epoch 9/10 -> Train Loss: 0.3974, Train Accuracy: 82.7848%, Val Loss: 0.5089, Val Accuracy: 75.0583%\n",
      "Epoch 10/10 -> Train Loss: 0.3764, Train Accuracy: 84.0152%, Val Loss: 0.5033, Val Accuracy: 74.0000%\n"
     ]
    }
   ],
   "source": [
    "train_model(model, train_loader, val_loader, criterion, optimizer, epochs=EPOCHS)"
   ]
  },
  {
   "cell_type": "markdown",
   "metadata": {},
   "source": [
    "### Save the model"
   ]
  },
  {
   "cell_type": "code",
   "execution_count": null,
   "metadata": {},
   "outputs": [],
   "source": [
    "# torch.save(model.state_dict(), 'll_model.pth')"
   ]
  },
  {
   "cell_type": "markdown",
   "metadata": {},
   "source": [
    "## Evaluation Function for confusion matrix and classification report"
   ]
  },
  {
   "cell_type": "code",
   "execution_count": 23,
   "metadata": {},
   "outputs": [],
   "source": [
    "def create_confusion_matrix_and_report(model, val_loader):\n",
    "    \"\"\"\n",
    "    Evaluates the model using the validation data loader and computes the confusion matrix and classification report.\n",
    "    \n",
    "    Args:\n",
    "        model (torch.nn.Module): The trained model.\n",
    "        val_loader (DataLoader): DataLoader containing validation data.\n",
    "    \"\"\"\n",
    "    model.eval()  # Set model to evaluation mode\n",
    "    all_preds = []  # List to store all predictions\n",
    "    all_labels = []  # List to store all true labels\n",
    "\n",
    "    with torch.no_grad():  # Disable gradient computation during evaluation\n",
    "        for mel_spec, labels in val_loader:\n",
    "\n",
    "            outputs = model(mel_spec)\n",
    "            predictions = (outputs.squeeze() > 0.5).float()\n",
    "            \n",
    "            all_preds.extend(predictions.cpu().numpy().flatten())\n",
    "            all_labels.extend(labels.cpu().numpy().flatten())\n",
    "\n",
    "    # Calculate confusion matrix using true and predicted labels\n",
    "    cm = confusion_matrix(all_labels, all_preds, labels=[1, 0])  # 1 = Cheering, 0 = No Cheering\n",
    "    disp = ConfusionMatrixDisplay(confusion_matrix=cm, display_labels=[\"Cheering\", \"No Cheering\"])\n",
    "\n",
    "    # Print classification report (precision, recall, f1-score, etc.)\n",
    "    report = classification_report(all_labels, all_preds, target_names=[\"No Cheering\", \"Cheering\"])\n",
    "    print(report)\n",
    "\n",
    "    disp.plot(cmap=plt.cm.Blues)\n",
    "    plt.title(\"Confusion Matrix\")\n",
    "    plt.show()"
   ]
  },
  {
   "cell_type": "markdown",
   "metadata": {},
   "source": [
    "### Visualizing the results"
   ]
  },
  {
   "cell_type": "code",
   "execution_count": 24,
   "metadata": {},
   "outputs": [
    {
     "name": "stdout",
     "output_type": "stream",
     "text": [
      "              precision    recall  f1-score   support\n",
      "\n",
      " No Cheering       0.77      0.95      0.85     54169\n",
      "    Cheering       0.50      0.14      0.22     17831\n",
      "\n",
      "    accuracy                           0.75     72000\n",
      "   macro avg       0.64      0.55      0.54     72000\n",
      "weighted avg       0.71      0.75      0.70     72000\n",
      "\n"
     ]
    },
    {
     "data": {
      "image/png": "[encoded data removed]",
      "text/plain": [
       "<Figure size 640x480 with 2 Axes>"
      ]
     },
     "metadata": {},
     "output_type": "display_data"
    }
   ],
   "source": [
    "create_confusion_matrix_and_report(model, val_loader)"
   ]
  },
  {
   "cell_type": "code",
   "execution_count": 75,
   "metadata": {},
   "outputs": [],
   "source": [
    "\n",
    "# y, sample_rate = librosa.load('audios/audio25.mp3', sr=SAMPLE_RATE, mono=True)\n",
    "# mel_spec = librosa.feature.melspectrogram(y=y, sr=SAMPLE_RATE, n_mels=N_MELS, hop_length=HOP_LENGTH)\n",
    "# print(mel_spec.shape)\n",
    "# mel_spec = librosa.power_to_db(mel_spec, ref=np.max)\n",
    "# mel_spec = (mel_spec - mel_spec.mean()) / mel_spec.std()\n",
    "# mel_spec = torch.tensor(mel_spec, dtype=torch.float32)\n",
    "# mel_spec = mel_spec.unsqueeze(0)\n",
    "# with torch.no_grad():\n",
    "#     predictions = model(mel_spec).squeeze().cpu().numpy()\n",
    "# timestamps = extract_timestamps(predictions, hop_length=HOP_LENGTH, sr=SAMPLE_RATE, merge_threshold=3)\n",
    "# print(\"TimeStamps:\", timestamps)"
   ]
  },
  {
   "cell_type": "markdown",
   "metadata": {},
   "source": [
    "###  Function to process variable-length Mel spectrograms with fixed segment size"
   ]
  },
  {
   "cell_type": "code",
   "execution_count": 28,
   "metadata": {},
   "outputs": [
    {
     "name": "stdout",
     "output_type": "stream",
     "text": [
      "Mel spectrogram shape: (64, 3557)\n",
      "Timestamps: [(0.0, 3.1172789115646258)]\n"
     ]
    }
   ],
   "source": [
    "def inference_with_fixed_segments(model, audio_path, segment_len, n_mels, hop_length, sr):\n",
    "    y, sample_rate = librosa.load(audio_path, sr=sr, mono=True)\n",
    "    mel_spec = librosa.feature.melspectrogram(y=y, sr=sr, n_mels=n_mels, hop_length=hop_length)\n",
    "    print(f\"Mel spectrogram shape: {mel_spec.shape}\")\n",
    "\n",
    "    mel_spec = librosa.power_to_db(mel_spec, ref=np.max)\n",
    "    mel_spec = (mel_spec - mel_spec.mean()) / mel_spec.std()\n",
    "\n",
    "    # Divide the Mel spectrogram into fixed-length segments\n",
    "    total_time_steps = mel_spec.shape[1]\n",
    "    num_segments = (total_time_steps + segment_len - 1) // segment_len  # Ceiling division\n",
    "\n",
    "    predictions = []\n",
    "\n",
    "    model.eval()\n",
    "    with torch.no_grad():\n",
    "        for i in range(num_segments):\n",
    "            start = i * segment_len\n",
    "            end = start + segment_len\n",
    "\n",
    "            segment = mel_spec[:, start:end]\n",
    "            if segment.shape[1] < segment_len:\n",
    "                padding = np.zeros((n_mels, segment_len - segment.shape[1]))\n",
    "                segment = np.concatenate((segment, padding), axis=1)\n",
    "\n",
    "            segment_tensor = torch.tensor(segment, dtype=torch.float32).unsqueeze(0)\n",
    "            prediction = model(segment_tensor).squeeze(0).cpu().numpy()\n",
    "            predictions.append(prediction)\n",
    "\n",
    "    combined_predictions = np.concatenate(predictions, axis=0)[:total_time_steps]\n",
    "    return combined_predictions\n",
    "\n",
    "audio_path = 'Audios/vid_527.mp3'\n",
    "\n",
    "with torch.no_grad():\n",
    "    predictions = inference_with_fixed_segments(\n",
    "        model=model,\n",
    "        audio_path=audio_path,\n",
    "        segment_len=SEGMENT_LEN,\n",
    "        n_mels=N_MELS,\n",
    "        hop_length=HOP_LENGTH,\n",
    "        sr=SAMPLE_RATE\n",
    "    )\n",
    "\n",
    "timestamps = extract_timestamps(predictions, hop_length=HOP_LENGTH, sr=SAMPLE_RATE, merge_threshold=3)\n",
    "print(\"Timestamps:\", timestamps)"
   ]
  },
  {
   "cell_type": "code",
   "execution_count": null,
   "metadata": {},
   "outputs": [],
   "source": []
  }
 ],
 "metadata": {
  "kernelspec": {
   "display_name": "Python 3",
   "language": "python",
   "name": "python3"
  },
  "language_info": {
   "codemirror_mode": {
    "name": "ipython",
    "version": 3
   },
   "file_extension": ".py",
   "mimetype": "text/x-python",
   "name": "python",
   "nbconvert_exporter": "python",
   "pygments_lexer": "ipython3",
   "version": "3.11.5"
  }
 },
 "nbformat": 4,
 "nbformat_minor": 2
}

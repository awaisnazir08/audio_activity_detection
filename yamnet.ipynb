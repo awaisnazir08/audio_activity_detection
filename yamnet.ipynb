{
 "cells": [
  {
   "cell_type": "code",
   "execution_count": 20,
   "metadata": {},
   "outputs": [],
   "source": [
    "import tensorflow as tf\n",
    "import tensorflow_hub as hub\n",
    "import numpy as np\n",
    "import csv\n",
    "import io\n",
    "import json\n",
    "import librosa\n",
    "from sklearn.model_selection import train_test_split\n",
    "import librosa.display\n",
    "from torch.utils.data import DataLoader, Dataset\n",
    "import torch.optim as optim\n",
    "import matplotlib.pyplot as plt\n",
    "import os\n",
    "import torch\n",
    "import torch.nn as nn\n",
    "from sklearn.metrics import confusion_matrix, ConfusionMatrixDisplay, classification_report"
   ]
  },
  {
   "cell_type": "code",
   "execution_count": 21,
   "metadata": {},
   "outputs": [],
   "source": [
    "# Find the name of the class with the top score when mean-aggregated across frames.\n",
    "def class_names_from_csv(class_map_csv_text):\n",
    "    \"\"\"Returns list of class names corresponding to score vector.\"\"\"\n",
    "    class_map_csv = io.StringIO(class_map_csv_text)\n",
    "    class_names = [display_name for (class_index, mid, display_name) in csv.reader(class_map_csv)]\n",
    "    class_names = class_names[1:]  # Skip CSV header\n",
    "    return class_names"
   ]
  },
  {
   "cell_type": "code",
   "execution_count": 3,
   "metadata": {},
   "outputs": [
    {
     "name": "stdout",
     "output_type": "stream",
     "text": [
      "WARNING:tensorflow:From C:\\Users\\HP\\AppData\\Roaming\\Python\\Python311\\site-packages\\tensorflow_hub\\resolver.py:120: The name tf.gfile.MakeDirs is deprecated. Please use tf.io.gfile.makedirs instead.\n",
      "\n"
     ]
    },
    {
     "name": "stderr",
     "output_type": "stream",
     "text": [
      "WARNING:tensorflow:From C:\\Users\\HP\\AppData\\Roaming\\Python\\Python311\\site-packages\\tensorflow_hub\\resolver.py:120: The name tf.gfile.MakeDirs is deprecated. Please use tf.io.gfile.makedirs instead.\n",
      "\n"
     ]
    },
    {
     "name": "stdout",
     "output_type": "stream",
     "text": [
      "WARNING:tensorflow:From C:\\Users\\HP\\AppData\\Roaming\\Python\\Python311\\site-packages\\tensorflow_hub\\module_v2.py:126: The name tf.saved_model.load_v2 is deprecated. Please use tf.compat.v2.saved_model.load instead.\n",
      "\n"
     ]
    },
    {
     "name": "stderr",
     "output_type": "stream",
     "text": [
      "WARNING:tensorflow:From C:\\Users\\HP\\AppData\\Roaming\\Python\\Python311\\site-packages\\tensorflow_hub\\module_v2.py:126: The name tf.saved_model.load_v2 is deprecated. Please use tf.compat.v2.saved_model.load instead.\n",
      "\n"
     ]
    }
   ],
   "source": [
    "# Load the model.\n",
    "yamnet_model = hub.load('https://www.kaggle.com/models/google/yamnet/TensorFlow2/yamnet/1')\n"
   ]
  },
  {
   "cell_type": "code",
   "execution_count": 43,
   "metadata": {},
   "outputs": [
    {
     "data": {
      "text/plain": [
       "(128918,)"
      ]
     },
     "execution_count": 43,
     "metadata": {},
     "output_type": "execute_result"
    }
   ],
   "source": [
    "waveform, _ = librosa.load('Audios/vid_70.mp3', sr=16000)\n",
    "waveform.shape"
   ]
  },
  {
   "cell_type": "code",
   "execution_count": 22,
   "metadata": {},
   "outputs": [
    {
     "name": "stdout",
     "output_type": "stream",
     "text": [
      "Chunk 1: 16000 samples\n",
      "Speech\n",
      "Chunk 2: 16000 samples\n",
      "Speech\n",
      "Chunk 3: 16000 samples\n",
      "Vehicle\n",
      "Chunk 4: 16000 samples\n",
      "Vehicle\n",
      "Chunk 5: 16000 samples\n",
      "Vehicle\n",
      "Chunk 6: 16000 samples\n",
      "Motor vehicle (road)\n",
      "Chunk 7: 16000 samples\n",
      "Speech\n",
      "Chunk 8: 16000 samples\n",
      "Music\n",
      "Chunk 9: 662 samples\n",
      "Silence\n"
     ]
    }
   ],
   "source": [
    "import librosa\n",
    "import numpy as np\n",
    "\n",
    "def load_audio_in_chunks(audio_path, chunk_duration=1.0, sample_rate=16000):\n",
    "    audio, sr = librosa.load(audio_path, sr=sample_rate)\n",
    "    chunk_length = int(chunk_duration * sr)  # Number of samples in each chunk\n",
    "    chunks = [\n",
    "        audio[i : i + chunk_length] for i in range(0, len(audio), chunk_length)\n",
    "    ]\n",
    "    return chunks, sr\n",
    "\n",
    "# Example usage\n",
    "audio_path = \"Audios/vid_175.mp3\"\n",
    "chunks, sr = load_audio_in_chunks(audio_path)\n",
    "\n",
    "# Process each chunk\n",
    "for i, chunk in enumerate(chunks):\n",
    "    print(f\"Chunk {i+1}: {len(chunk)} samples\")\n",
    "    scores, embeddings, log_mel_spectrogram = yamnet_model(chunk)\n",
    "    class_map_path = yamnet_model.class_map_path().numpy()\n",
    "    class_names = class_names_from_csv(tf.io.read_file(class_map_path).numpy().decode('utf-8'))\n",
    "    print(class_names[scores.numpy().mean(axis=0).argmax()])\n"
   ]
  },
  {
   "cell_type": "code",
   "execution_count": 44,
   "metadata": {},
   "outputs": [],
   "source": [
    "# Run the model, check the output.\n",
    "scores, embeddings, log_mel_spectrogram = yamnet_model(waveform)\n",
    "scores.shape.assert_is_compatible_with([None, 521])\n",
    "embeddings.shape.assert_is_compatible_with([None, 1024])\n",
    "log_mel_spectrogram.shape.assert_is_compatible_with([None, 64])"
   ]
  },
  {
   "cell_type": "code",
   "execution_count": null,
   "metadata": {},
   "outputs": [
    {
     "name": "stdout",
     "output_type": "stream",
     "text": [
      "Vehicle\n"
     ]
    }
   ],
   "source": [
    "class_map_path = yamnet_model.class_map_path().numpy()\n",
    "class_names = class_names_from_csv(tf.io.read_file(class_map_path).numpy().decode('utf-8'))\n",
    "print(class_names[scores.numpy().mean(axis=0).argmax()])  # Should print 'Silence'."
   ]
  },
  {
   "cell_type": "code",
   "execution_count": 61,
   "metadata": {},
   "outputs": [
    {
     "data": {
      "text/plain": [
       "TensorShape([16, 1024])"
      ]
     },
     "execution_count": 61,
     "metadata": {},
     "output_type": "execute_result"
    }
   ],
   "source": [
    "embeddings.shape"
   ]
  },
  {
   "cell_type": "code",
   "execution_count": 62,
   "metadata": {},
   "outputs": [
    {
     "data": {
      "text/plain": [
       "TensorShape([816, 64])"
      ]
     },
     "execution_count": 62,
     "metadata": {},
     "output_type": "execute_result"
    }
   ],
   "source": [
    "log_mel_spectrogram.shape"
   ]
  },
  {
   "cell_type": "code",
   "execution_count": 23,
   "metadata": {},
   "outputs": [],
   "source": [
    "class AudioDataset(Dataset):\n",
    "    def __init__(self, data_path=None, data=None):\n",
    "        \n",
    "        if data is None:\n",
    "            data = np.load(data_path)\n",
    "\n",
    "        self.embeddings = data['embeddings']\n",
    "        self.labels = data['labels']\n",
    "\n",
    "        assert len(self.embeddings) == len(self.labels), \"Embeddings and labels must have the same length.\"\n",
    "\n",
    "    def __len__(self):\n",
    "        return len(self.embeddings) \n",
    "\n",
    "    def __getitem__(self, idx: int):\n",
    "        return torch.tensor(self.embeddings, dtype=torch.float32), torch.tensor(self.labels, dtype=torch.float32)\n"
   ]
  },
  {
   "cell_type": "code",
   "execution_count": 24,
   "metadata": {},
   "outputs": [],
   "source": [
    "class CNNSoundClassifier(nn.Module):\n",
    "    def __init__(self, input_size, num_filters, segment_len=1000):\n",
    "        super(CNNSoundClassifier, self).__init__()\n",
    "        self.segment_len = segment_len\n",
    "\n",
    "        self.cnn = nn.Sequential(\n",
    "            nn.Conv1d(input_size, num_filters, kernel_size=3, stride=1, padding=1),\n",
    "            nn.ReLU(),\n",
    "            nn.MaxPool1d(kernel_size=2, stride=2),  \n",
    "            nn.Dropout(p = 0.2),\n",
    "            \n",
    "            nn.Conv1d(num_filters, num_filters * 2, kernel_size=3, stride=1, padding=1),\n",
    "            nn.ReLU(),\n",
    "            nn.MaxPool1d(kernel_size=2, stride=2),\n",
    "            nn.Dropout(p = 0.2)\n",
    "        )\n",
    "\n",
    "        reduced_dim = self.segment_len // (2 * 2) \n",
    "\n",
    "        self.fc = nn.Linear(reduced_dim * num_filters * 2, segment_len)\n",
    "\n",
    "        self.sigmoid = nn.Sigmoid()\n",
    "\n",
    "    def forward(self, x):\n",
    "        x = self.cnn(x)  # Shape: (batch_size, num_filters * 2, reduced_dim)\n",
    "        x = x.view(x.size(0), -1)  # Flatten for the linear layer\n",
    "        x = self.fc(x)  # Shape: (batch_size, segment_len)\n",
    "        return self.sigmoid(x)\n"
   ]
  },
  {
   "cell_type": "code",
   "execution_count": 25,
   "metadata": {},
   "outputs": [],
   "source": [
    "def extract_timestamps(predictions, hop_length, sr, merge_threshold=2, duration_threshold=1):\n",
    "    \"\"\"\n",
    "    Extract timestamps from a binary prediction array, merging adjacent detections \n",
    "    and filtering out short detections based on duration.\n",
    "\n",
    "    Args:\n",
    "        predictions (list): Binary array of predictions (1 or 0), where 1 indicates the presence of an event.\n",
    "        hop_length (int): The hop length in samples (used to calculate time from frame indices).\n",
    "        sr (int): The sample rate (samples per second), used to convert indices to time.\n",
    "        merge_threshold (float, optional): The minimum time gap (in seconds) between adjacent detections to consider them separate. Default is 2 seconds.\n",
    "        duration_threshold (float, optional): The minimum duration (in seconds) of an event to keep. Default is 1 second.\n",
    "\n",
    "    Returns:\n",
    "        list: A list of tuples representing the start and end times of detected events (in seconds).\n",
    "    \"\"\"\n",
    "    timestamps = []\n",
    "    start = None\n",
    "\n",
    "    for i, pred in enumerate(predictions):\n",
    "        if pred > 0.5 and start is None:\n",
    "            start = i\n",
    "        elif pred <= 0.5 and start is not None:\n",
    "            end = i\n",
    "            # Convert frame indices to time and store the detected timestamp\n",
    "            timestamps.append((start * hop_length / sr, end * hop_length / sr))\n",
    "            start = None\n",
    "\n",
    "    # Handle the case where an event ends at the last frame\n",
    "    if start is not None:\n",
    "        timestamps.append((start * hop_length / sr, len(predictions) * hop_length / sr))\n",
    "    \n",
    "    merged_timestamps = []\n",
    "    for ts in timestamps:\n",
    "        if not merged_timestamps or ts[0] - merged_timestamps[-1][1] > merge_threshold:\n",
    "            # No overlap, append as new event\n",
    "            merged_timestamps.append(ts)\n",
    "        else:\n",
    "            # Merge adjacent events into one\n",
    "            merged_timestamps[-1] = (merged_timestamps[-1][0], ts[1])\n",
    "    \n",
    "    # Filter out events that are too short based on the duration_threshold\n",
    "    merged_timestamps = [ts for ts in merged_timestamps if ts[1] - ts[0] >= duration_threshold]\n",
    "    \n",
    "    return merged_timestamps\n"
   ]
  },
  {
   "cell_type": "code",
   "execution_count": 78,
   "metadata": {},
   "outputs": [],
   "source": [
    "def preprocess_all_audios(audio_files, annotations, sr=16000, root_path='Audios', save_path='preprocessed_data.npz'):\n",
    "    all_embeddings = None \n",
    "    all_labels = None\n",
    "\n",
    "    for audio_file in audio_files:\n",
    "        audio_path = os.path.join(root_path, audio_file)\n",
    "        waveform, _ = librosa.load(audio_path, sr=sr)\n",
    "\n",
    "        scores, embeddings, log_mel_spectrogram = yamnet_model(waveform)\n",
    "        embeddings = embeddings.numpy()\n",
    "\n",
    "        frame_length = 0.96  # seconds\n",
    "        frame_hop = 0.48  # seconds\n",
    "\n",
    "        num_embeddings = embeddings.shape[0]\n",
    "        labels = np.zeros(num_embeddings)\n",
    "        \n",
    "        timestamps = annotations[audio_file]['crowd_noise']\n",
    "\n",
    "        for i in range(num_embeddings):\n",
    "            # Calculate start and end times for the current embedding\n",
    "            start_time = i * frame_hop\n",
    "            end_time = start_time + frame_length\n",
    "\n",
    "            # Check overlap with each crowd noise interval\n",
    "            for start, end in timestamps:\n",
    "                overlap_start = max(start, start_time)\n",
    "                overlap_end = min(end, end_time)\n",
    "                overlap_duration = max(0, overlap_end - overlap_start)\n",
    "\n",
    "                # Label as 1 if overlap exceeds half the frame length\n",
    "                if overlap_duration >= (frame_length / 2):\n",
    "                    labels[i] = 1\n",
    "                    break  # No need to check further if labeled as 1\n",
    "\n",
    "        # Concatenate embeddings and labels across all files\n",
    "        if all_embeddings is None:\n",
    "            all_embeddings = embeddings\n",
    "        else:\n",
    "            all_embeddings = np.concatenate((all_embeddings, embeddings), axis=0)\n",
    "\n",
    "        if all_labels is None:\n",
    "            all_labels = labels\n",
    "        else:\n",
    "            all_labels = np.concatenate((all_labels, labels))\n",
    "    \n",
    "    # Save the preprocessed data\n",
    "    # np.savez_compressed(save_path, embeddings=all_embeddings, labels=all_labels)\n",
    "    print(f\"Saved preprocessed data: Embeddings shape {all_embeddings.shape}, Labels length {all_labels.shape}\")\n",
    "    \n",
    "    return {'embeddings': all_embeddings, 'labels': all_labels}"
   ]
  },
  {
   "cell_type": "code",
   "execution_count": 26,
   "metadata": {},
   "outputs": [],
   "source": [
    "def train_model(model, train_loader, val_loader, criterion, optimizer, epochs=10):\n",
    "    \"\"\"\n",
    "    Train and validate the model for the specified number of epochs.\n",
    "\n",
    "    Args:\n",
    "        model (nn.Module): The neural network model to train.\n",
    "        train_loader (DataLoader): DataLoader for the training dataset.\n",
    "        val_loader (DataLoader): DataLoader for the validation dataset.\n",
    "        criterion (nn.Module): The loss function used for training.\n",
    "        optimizer (torch.optim.Optimizer): Optimizer for updating model weights.\n",
    "        epochs (int, optional): Number of training epochs. Defaults to 10.\n",
    "\n",
    "    Returns:\n",
    "        None\n",
    "    \"\"\"\n",
    "    model.train()\n",
    "\n",
    "    for epoch in range(epochs):\n",
    "        total_train_loss = 0\n",
    "        train_correct_predictions = 0\n",
    "        train_total_samples = 0\n",
    "\n",
    "        for embeddings, labels in train_loader:\n",
    "            optimizer.zero_grad()\n",
    "\n",
    "            outputs = model(embeddings)\n",
    "            loss = criterion(outputs.squeeze(), labels.squeeze())\n",
    "            loss.backward()\n",
    "            optimizer.step() \n",
    "\n",
    "            total_train_loss += loss.item()\n",
    "\n",
    "            predictions = (outputs.squeeze() > 0.5).float()\n",
    "            train_correct_predictions += (predictions == labels).sum().item()\n",
    "            train_total_samples += labels.numel()\n",
    "\n",
    "        # Calculate average training loss and accuracy for this epoch\n",
    "        avg_train_loss = total_train_loss / len(train_loader)\n",
    "        train_accuracy = train_correct_predictions / train_total_samples\n",
    "\n",
    "        model.eval()\n",
    "\n",
    "        total_val_loss = 0\n",
    "        val_correct_predictions = 0\n",
    "        val_total_samples = 0\n",
    "\n",
    "        with torch.no_grad():\n",
    "            for mel_spec, labels in val_loader:\n",
    "                outputs = model(mel_spec)\n",
    "\n",
    "                loss = criterion(outputs.squeeze(), labels.squeeze())\n",
    "                total_val_loss += loss.item()\n",
    "\n",
    "                predictions = (outputs.squeeze() > 0.5).float()\n",
    "                val_correct_predictions += (predictions == labels).sum().item()\n",
    "                val_total_samples += labels.numel()\n",
    "\n",
    "        avg_val_loss = total_val_loss / len(val_loader)\n",
    "        val_accuracy = val_correct_predictions / val_total_samples\n",
    "\n",
    "        print(f\"Epoch {epoch+1}/{epochs} -> \"\n",
    "            f\"Train Loss: {avg_train_loss:.4f}, Train Accuracy: {train_accuracy:.4%}, \"\n",
    "            f\"Val Loss: {avg_val_loss:.4f}, Val Accuracy: {val_accuracy:.4%}\")"
   ]
  },
  {
   "cell_type": "code",
   "execution_count": 31,
   "metadata": {},
   "outputs": [],
   "source": [
    "# Sample rate of the audio (samples per second)\n",
    "SAMPLE_RATE = 16000\n",
    "\n",
    "# Maximum length of the input sequence (number of frames)\n",
    "SEGMENT_LEN = 1000\n",
    "\n",
    "# Training number of epochs\n",
    "EPOCHS = 10\n",
    "\n",
    "# Audios root directory path\n",
    "DATASET_ROOT_DIRECTORY = 'Audios'\n",
    "\n",
    "LEARNING_RATE = 0.0001\n",
    "\n",
    "WEIGHT_DECAY = 1e-4  # Appropriate weight decay for small dataset"
   ]
  },
  {
   "cell_type": "code",
   "execution_count": 29,
   "metadata": {},
   "outputs": [],
   "source": [
    "# Define the classifier head\n",
    "class ClassifierHead(nn.Module):\n",
    "    def __init__(self, input_dim, hidden_dim=128):\n",
    "        \"\"\"\n",
    "        A simple classifier head to predict binary labels from embeddings.\n",
    "\n",
    "        Args:\n",
    "            input_dim (int): Dimensionality of the input embeddings.\n",
    "            hidden_dim (int): Number of units in the hidden layer.\n",
    "        \"\"\"\n",
    "        super(ClassifierHead, self).__init__()\n",
    "        self.fc1 = nn.Linear(input_dim, hidden_dim)\n",
    "        self.relu = nn.ReLU()\n",
    "        self.dropout = nn.Dropout(0.5)\n",
    "        self.fc2 = nn.Linear(hidden_dim, 1) \n",
    "        self.sigmoid = nn.Sigmoid() \n",
    "\n",
    "    def forward(self, x):\n",
    "        x = self.fc1(x)\n",
    "        x = self.relu(x)\n",
    "        x = self.dropout(x)\n",
    "        x = self.fc2(x)\n",
    "        x = self.sigmoid(x)\n",
    "        return x"
   ]
  },
  {
   "cell_type": "code",
   "execution_count": 58,
   "metadata": {},
   "outputs": [
    {
     "name": "stdout",
     "output_type": "stream",
     "text": [
      "Saved preprocessed data: Embeddings shape (1738, 1024), Labels length (1738,)\n",
      "Saved preprocessed data: Embeddings shape (196, 1024), Labels length (196,)\n"
     ]
    }
   ],
   "source": [
    "# Load annotations from JSON file\n",
    "with open(\"timestamp_annotations.json\", \"r\") as f:\n",
    "    annotations = json.load(f)\n",
    "\n",
    "# Extract the audio files from the annotations\n",
    "audio_files = list(annotations.keys())\n",
    "\n",
    "# Split the dataset into training and validation sets (80% training, 20% validation)\n",
    "train_files, val_files = train_test_split(audio_files, test_size=0.1, random_state=21)\n",
    "\n",
    "train_data = preprocess_all_audios(train_files, annotations, root_path=DATASET_ROOT_DIRECTORY)\n",
    "\n",
    "val_data = preprocess_all_audios(val_files, annotations, sr=SAMPLE_RATE, root_path=DATASET_ROOT_DIRECTORY)\n",
    "\n",
    "# # Initialize the datasets\n",
    "train_dataset = AudioDataset(\n",
    "    data = train_data,\n",
    ")\n",
    "\n",
    "val_dataset = AudioDataset(\n",
    "    data = val_data,\n",
    ")\n",
    "\n",
    "# Create DataLoader instances for both training and validation datasets\n",
    "train_loader = DataLoader(train_dataset, batch_size=4, shuffle=True)\n",
    "val_loader = DataLoader(val_dataset, batch_size=4, shuffle=False)\n"
   ]
  },
  {
   "cell_type": "code",
   "execution_count": 85,
   "metadata": {},
   "outputs": [
    {
     "name": "stdout",
     "output_type": "stream",
     "text": [
      "Saved preprocessed data: Embeddings shape (19, 1024), Labels length (19,)\n"
     ]
    }
   ],
   "source": [
    "data = preprocess_all_audios(['vid_496.mp3'], annotations)\n"
   ]
  },
  {
   "cell_type": "code",
   "execution_count": 86,
   "metadata": {},
   "outputs": [
    {
     "data": {
      "text/plain": [
       "array([1., 1., 0., 0., 0., 0., 0., 0., 0., 0., 0., 0., 0., 0., 0., 0., 0.,\n",
       "       0., 0.])"
      ]
     },
     "execution_count": 86,
     "metadata": {},
     "output_type": "execute_result"
    }
   ],
   "source": [
    "data['labels']"
   ]
  },
  {
   "cell_type": "code",
   "execution_count": 39,
   "metadata": {},
   "outputs": [],
   "source": [
    "# Initialize the model, loss function, and optimizer\n",
    "model = ClassifierHead(input_dim=1024, hidden_dim=128)\n",
    "criterion = nn.BCELoss()  # Binary Cross Entropy Loss\n",
    "optimizer = optim.AdamW(model.parameters(), lr=LEARNING_RATE, weight_decay=WEIGHT_DECAY)\n"
   ]
  },
  {
   "cell_type": "code",
   "execution_count": 40,
   "metadata": {},
   "outputs": [
    {
     "name": "stdout",
     "output_type": "stream",
     "text": [
      "Epoch 1/10 -> Train Loss: 0.3782, Train Accuracy: 84.1381%, Val Loss: 0.3188, Val Accuracy: 86.7347%\n",
      "Epoch 2/10 -> Train Loss: 0.2488, Train Accuracy: 89.9423%, Val Loss: 0.3752, Val Accuracy: 86.2245%\n",
      "Epoch 3/10 -> Train Loss: 0.1788, Train Accuracy: 93.5818%, Val Loss: 0.4424, Val Accuracy: 84.6939%\n",
      "Epoch 4/10 -> Train Loss: 0.1241, Train Accuracy: 96.5751%, Val Loss: 0.5301, Val Accuracy: 85.2041%\n",
      "Epoch 5/10 -> Train Loss: 0.0831, Train Accuracy: 98.1062%, Val Loss: 0.6343, Val Accuracy: 83.6735%\n",
      "Epoch 6/10 -> Train Loss: 0.0541, Train Accuracy: 99.2610%, Val Loss: 0.7452, Val Accuracy: 82.6531%\n",
      "Epoch 7/10 -> Train Loss: 0.0347, Train Accuracy: 99.7468%, Val Loss: 1.2690, Val Accuracy: 82.1429%\n",
      "Epoch 8/10 -> Train Loss: 0.0223, Train Accuracy: 99.9339%, Val Loss: 1.3590, Val Accuracy: 82.1429%\n",
      "Epoch 9/10 -> Train Loss: 0.0145, Train Accuracy: 100.0000%, Val Loss: 1.4449, Val Accuracy: 81.6327%\n",
      "Epoch 10/10 -> Train Loss: 0.0097, Train Accuracy: 100.0000%, Val Loss: 1.5221, Val Accuracy: 81.1224%\n"
     ]
    }
   ],
   "source": [
    "train_model(model, train_loader, val_loader, criterion, optimizer, epochs=EPOCHS)"
   ]
  },
  {
   "cell_type": "code",
   "execution_count": 130,
   "metadata": {},
   "outputs": [],
   "source": [
    "def create_confusion_matrix_and_report(model, val_loader):\n",
    "    \"\"\"\n",
    "    Evaluates the model using the validation data loader and computes the confusion matrix and classification report.\n",
    "    \n",
    "    Args:\n",
    "        model (torch.nn.Module): The trained model.\n",
    "        val_loader (DataLoader): DataLoader containing validation data.\n",
    "    \"\"\"\n",
    "    model.eval()  # Set model to evaluation mode\n",
    "    all_preds = []  # List to store all predictions\n",
    "    all_labels = []  # List to store all true labels\n",
    "\n",
    "    with torch.no_grad():  # Disable gradient computation during evaluation\n",
    "        for embeddings, labels in val_loader:\n",
    "\n",
    "            outputs = model(embeddings)\n",
    "            predictions = (outputs.squeeze() > 0.5).float()\n",
    "            \n",
    "            all_preds.extend(predictions.cpu().numpy().flatten())\n",
    "            all_labels.extend(labels.cpu().numpy().flatten())\n",
    "\n",
    "    # Calculate confusion matrix using true and predicted labels\n",
    "    cm = confusion_matrix(all_labels, all_preds, labels=[1, 0])  # 1 = Cheering, 0 = No Cheering\n",
    "    disp = ConfusionMatrixDisplay(confusion_matrix=cm, display_labels=[\"Cheering\", \"No Cheering\"])\n",
    "\n",
    "    # Print classification report (precision, recall, f1-score, etc.)\n",
    "    report = classification_report(all_labels, all_preds, target_names=[\"No Cheering\", \"Cheering\"])\n",
    "    print(report)\n",
    "\n",
    "    disp.plot(cmap=plt.cm.Blues)\n",
    "    plt.title(\"Confusion Matrix\")\n",
    "    plt.show()"
   ]
  },
  {
   "cell_type": "code",
   "execution_count": 131,
   "metadata": {},
   "outputs": [
    {
     "name": "stdout",
     "output_type": "stream",
     "text": [
      "              precision    recall  f1-score   support\n",
      "\n",
      " No Cheering       0.89      0.89      0.89     31360\n",
      "    Cheering       0.51      0.50      0.51      7056\n",
      "\n",
      "    accuracy                           0.82     38416\n",
      "   macro avg       0.70      0.70      0.70     38416\n",
      "weighted avg       0.82      0.82      0.82     38416\n",
      "\n"
     ]
    },
    {
     "data": {
      "image/png": "[encoded data removed]",
      "text/plain": [
       "<Figure size 640x480 with 2 Axes>"
      ]
     },
     "metadata": {},
     "output_type": "display_data"
    }
   ],
   "source": [
    "create_confusion_matrix_and_report(model, val_loader)"
   ]
  },
  {
   "cell_type": "code",
   "execution_count": 94,
   "metadata": {},
   "outputs": [],
   "source": [
    "waveform, _ = librosa.load('Audios/vid_198.mp3', sr=16000)\n",
    "\n",
    "# Pass the waveform through YAMNet to get embeddings\n",
    "with torch.no_grad():\n",
    "    scores, embeddings, _ = yamnet_model(waveform)  # Replace `model` with your YAMNet instance\n",
    "    embeddings = embeddings.numpy()  # Convert embeddings to NumPy array if needed\n"
   ]
  },
  {
   "cell_type": "code",
   "execution_count": 95,
   "metadata": {},
   "outputs": [],
   "source": [
    "# Convert embeddings to Torch tensor\n",
    "embeddings_tensor = torch.tensor(embeddings, dtype=torch.float32)\n",
    "\n",
    "# Put the classifier in evaluation mode\n",
    "model.eval()\n",
    "\n",
    "# Get predictions\n",
    "with torch.no_grad():\n",
    "    predictions = model(embeddings_tensor)\n",
    "    predictions = torch.sigmoid(predictions).numpy()  # Apply sigmoid if using BCEWithLogitsLoss\n"
   ]
  },
  {
   "cell_type": "code",
   "execution_count": 96,
   "metadata": {},
   "outputs": [
    {
     "data": {
      "text/plain": [
       "array([[0],\n",
       "       [0],\n",
       "       [0],\n",
       "       [0],\n",
       "       [1],\n",
       "       [1],\n",
       "       [1],\n",
       "       [1],\n",
       "       [1],\n",
       "       [1],\n",
       "       [1],\n",
       "       [0],\n",
       "       [0],\n",
       "       [0],\n",
       "       [0],\n",
       "       [0],\n",
       "       [0],\n",
       "       [0],\n",
       "       [0],\n",
       "       [0],\n",
       "       [0],\n",
       "       [0],\n",
       "       [0],\n",
       "       [0],\n",
       "       [0],\n",
       "       [0],\n",
       "       [0],\n",
       "       [0],\n",
       "       [0],\n",
       "       [0],\n",
       "       [0],\n",
       "       [0],\n",
       "       [0],\n",
       "       [0],\n",
       "       [0],\n",
       "       [0],\n",
       "       [1]])"
      ]
     },
     "execution_count": 96,
     "metadata": {},
     "output_type": "execute_result"
    }
   ],
   "source": [
    "threshold = 0.7  # Adjust based on your model's calibration\n",
    "binary_predictions = (predictions > threshold).astype(int)\n",
    "binary_predictions"
   ]
  },
  {
   "cell_type": "code",
   "execution_count": 102,
   "metadata": {},
   "outputs": [
    {
     "name": "stdout",
     "output_type": "stream",
     "text": [
      "Detected crowd noise intervals:\n",
      "Start: 1.92s, End: 5.76s\n",
      "Start: 17.28s, End: 18.24s\n"
     ]
    }
   ],
   "source": [
    "hop_size = 0.48  # In seconds\n",
    "frame_length = 0.96  # Duration of each frame\n",
    "timestamps = []\n",
    "\n",
    "# Create timestamps from binary predictions\n",
    "for i, label in enumerate(binary_predictions):\n",
    "    if label == 1:  # Crowd noise detected\n",
    "        start_time = i * hop_size\n",
    "        end_time = start_time + frame_length\n",
    "        timestamps.append((start_time, end_time))\n",
    "\n",
    "# Function to merge overlapping or adjacent intervals\n",
    "def merge_intervals(intervals):\n",
    "    if not intervals:\n",
    "        return []\n",
    "    merged = [intervals[0]]\n",
    "    for current in intervals[1:]:\n",
    "        previous = merged[-1]\n",
    "        # Check if intervals overlap or are adjacent\n",
    "        if current[0] <= previous[1]:  \n",
    "            merged[-1] = (previous[0], max(previous[1], current[1]))\n",
    "        else:\n",
    "            merged.append(current)\n",
    "    return merged\n",
    "\n",
    "# Merge intervals\n",
    "merged_timestamps = merge_intervals(timestamps)\n",
    "\n",
    "# Print results\n",
    "print(\"Detected crowd noise intervals:\")\n",
    "for start, end in merged_timestamps:\n",
    "    print(f\"Start: {start:.2f}s, End: {end:.2f}s\")\n"
   ]
  },
  {
   "cell_type": "code",
   "execution_count": null,
   "metadata": {},
   "outputs": [],
   "source": []
  }
 ],
 "metadata": {
  "kernelspec": {
   "display_name": "Python 3",
   "language": "python",
   "name": "python3"
  },
  "language_info": {
   "codemirror_mode": {
    "name": "ipython",
    "version": 3
   },
   "file_extension": ".py",
   "mimetype": "text/x-python",
   "name": "python",
   "nbconvert_exporter": "python",
   "pygments_lexer": "ipython3",
   "version": "3.11.5"
  }
 },
 "nbformat": 4,
 "nbformat_minor": 2
}
